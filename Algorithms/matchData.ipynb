{
 "cells": [
  {
   "cell_type": "code",
   "execution_count": 1,
   "metadata": {},
   "outputs": [
    {
     "name": "stdout",
     "output_type": "stream",
     "text": [
      "Requirement already satisfied: scikit-learn in c:\\users\\neteera\\appdata\\local\\programs\\python\\python310\\lib\\site-packages (1.5.1)\n",
      "Requirement already satisfied: numpy>=1.19.5 in c:\\users\\neteera\\appdata\\local\\programs\\python\\python310\\lib\\site-packages (from scikit-learn) (2.1.0)\n",
      "Requirement already satisfied: threadpoolctl>=3.1.0 in c:\\users\\neteera\\appdata\\local\\programs\\python\\python310\\lib\\site-packages (from scikit-learn) (3.5.0)\n",
      "Requirement already satisfied: joblib>=1.2.0 in c:\\users\\neteera\\appdata\\local\\programs\\python\\python310\\lib\\site-packages (from scikit-learn) (1.4.2)\n",
      "Requirement already satisfied: scipy>=1.6.0 in c:\\users\\neteera\\appdata\\local\\programs\\python\\python310\\lib\\site-packages (from scikit-learn) (1.14.0)\n",
      "Note: you may need to restart the kernel to use updated packages.\n"
     ]
    },
    {
     "name": "stderr",
     "output_type": "stream",
     "text": [
      "WARNING: You are using pip version 22.0.4; however, version 24.2 is available.\n",
      "You should consider upgrading via the 'c:\\Users\\neteera\\AppData\\Local\\Programs\\Python\\Python310\\python.exe -m pip install --upgrade pip' command.\n"
     ]
    }
   ],
   "source": [
    "pip install scikit-learn"
   ]
  },
  {
   "cell_type": "code",
   "execution_count": 2,
   "metadata": {},
   "outputs": [
    {
     "name": "stdout",
     "output_type": "stream",
     "text": [
      "Requirement already satisfied: pandas in c:\\users\\neteera\\appdata\\local\\programs\\python\\python310\\lib\\site-packages (2.2.2)\n",
      "Requirement already satisfied: numpy>=1.22.4 in c:\\users\\neteera\\appdata\\local\\programs\\python\\python310\\lib\\site-packages (from pandas) (2.1.0)\n",
      "Requirement already satisfied: tzdata>=2022.7 in c:\\users\\neteera\\appdata\\local\\programs\\python\\python310\\lib\\site-packages (from pandas) (2024.1)\n",
      "Requirement already satisfied: pytz>=2020.1 in c:\\users\\neteera\\appdata\\local\\programs\\python\\python310\\lib\\site-packages (from pandas) (2024.1)\n",
      "Requirement already satisfied: python-dateutil>=2.8.2 in c:\\users\\neteera\\appdata\\local\\programs\\python\\python310\\lib\\site-packages (from pandas) (2.8.2)\n",
      "Requirement already satisfied: six>=1.5 in c:\\users\\neteera\\appdata\\local\\programs\\python\\python310\\lib\\site-packages (from python-dateutil>=2.8.2->pandas) (1.16.0)\n",
      "Note: you may need to restart the kernel to use updated packages.\n"
     ]
    },
    {
     "name": "stderr",
     "output_type": "stream",
     "text": [
      "WARNING: You are using pip version 22.0.4; however, version 24.2 is available.\n",
      "You should consider upgrading via the 'c:\\Users\\neteera\\AppData\\Local\\Programs\\Python\\Python310\\python.exe -m pip install --upgrade pip' command.\n"
     ]
    }
   ],
   "source": [
    "pip install pandas"
   ]
  },
  {
   "cell_type": "code",
   "execution_count": 3,
   "metadata": {},
   "outputs": [],
   "source": [
    "import sklearn\n",
    "import math\n",
    "from datetime import datetime\n",
    "import pandas as pd"
   ]
  },
  {
   "cell_type": "code",
   "execution_count": 4,
   "metadata": {},
   "outputs": [
    {
     "name": "stdout",
     "output_type": "stream",
     "text": [
      "   user_id_person1 person1_name  user_id_person2 person2_name  start_latitude  \\\n",
      "0                1        Alice                2          Bob            13.7   \n",
      "\n",
      "   start_longitude start_point_name  end_latitude  end_longitude  \\\n",
      "0            100.0          Start A          13.8          100.2   \n",
      "\n",
      "  end_point_name start_time end_time     match_time  \n",
      "0          End A      08:00    09:00  08:15 - 09:00  \n"
     ]
    }
   ],
   "source": [
    "import math\n",
    "from datetime import datetime\n",
    "import pandas as pd\n",
    "\n",
    "# Haversine function to calculate the distance between two points on the Earth's surface\n",
    "def haversine(lon1, lat1, lon2, lat2):\n",
    "    R = 6371  # Earth radius in kilometers\n",
    "    phi1 = math.radians(lat1)\n",
    "    phi2 = math.radians(lat2)\n",
    "    delta_phi = math.radians(lat2 - lat1)\n",
    "    delta_lambda = math.radians(lon2 - lon1)\n",
    "    \n",
    "    a = math.sin(delta_phi/2)**2 + math.cos(phi1) * math.cos(phi2) * math.sin(delta_lambda/2)**2\n",
    "    c = 2 * math.atan2(math.sqrt(a), math.sqrt(1 - a))\n",
    "    \n",
    "    return R * c  # Output is the shortest distance between 2 points (in kilometers)\n",
    "\n",
    "# User class to store carpooling participant information\n",
    "class User:\n",
    "    def __init__(self, user_id, name, start_lon, start_lat, end_lon, end_lat, start_point_name, end_point_name, distance, travel_time, start_time, end_time):\n",
    "        self.user_id = user_id\n",
    "        self.name = name\n",
    "        self.start_lon = start_lon\n",
    "        self.start_lat = start_lat\n",
    "        self.end_lon = end_lon\n",
    "        self.end_lat = end_lat\n",
    "        self.start_point_name = start_point_name\n",
    "        self.end_point_name = end_point_name\n",
    "        self.distance = distance  # distance willing to travel from start to end\n",
    "        self.travel_time = travel_time\n",
    "        self.start_time = datetime.strptime(start_time, '%H:%M')  # Start time as HH:MM\n",
    "        self.end_time = datetime.strptime(end_time, '%H:%M')  # End time as HH:MM\n",
    "\n",
    "    def __repr__(self):\n",
    "        return f\"User({self.name})\"\n",
    "\n",
    "# Matching function to find potential carpool matches  \n",
    "# loop2 times for finding 1 person to another user that can matching \n",
    "def find_matches(users, distance_threshold=1.0, time_threshold=30):\n",
    "    matches = []\n",
    "    \n",
    "    for i, user1 in enumerate(users):\n",
    "        for user2 in users[i+1:]:\n",
    "            start_distance = haversine(user1.start_lon, user1.start_lat, user2.start_lon, user2.start_lat)\n",
    "            end_distance = haversine(user1.end_lon, user1.end_lat, user2.end_lon, user2.end_lat)\n",
    "            \n",
    "            if start_distance <= distance_threshold and end_distance <= distance_threshold:\n",
    "                # Check if travel time overlap is within threshold\n",
    "                start_time_diff = abs((user1.start_time - user2.start_time).total_seconds() / 60)\n",
    "                end_time_diff = abs((user1.end_time - user2.end_time).total_seconds() / 60)\n",
    "                \n",
    "                if start_time_diff <= time_threshold and end_time_diff <= time_threshold:\n",
    "                    match_time = (max(user1.start_time, user2.start_time), min(user1.end_time, user2.end_time))\n",
    "                    matches.append({\n",
    "                        'user_id_person1': user1.user_id,\n",
    "                        'person1_name': user1.name,\n",
    "                        'user_id_person2': user2.user_id,\n",
    "                        'person2_name': user2.name,\n",
    "                        'start_latitude': user1.start_lat,\n",
    "                        'start_longitude': user1.start_lon,\n",
    "                        'start_point_name': user1.start_point_name,\n",
    "                        'end_latitude': user1.end_lat,\n",
    "                        'end_longitude': user1.end_lon,\n",
    "                        'end_point_name': user1.end_point_name,\n",
    "                        'start_time': user1.start_time.strftime('%H:%M'),\n",
    "                        'end_time': user1.end_time.strftime('%H:%M'),\n",
    "                        'match_time': f\"{match_time[0].strftime('%H:%M')} - {match_time[1].strftime('%H:%M')}\"\n",
    "                    })\n",
    "    \n",
    "    return pd.DataFrame(matches)\n",
    "\n",
    "# Example usage\n",
    "users = [\n",
    "    User(1, \"Alice\", 100.0, 13.7, 100.2, 13.8, \"Start A\", \"End A\", 5, 30, \"08:00\", \"09:00\"),\n",
    "    User(2, \"Bob\", 100.1, 13.75, 100.25, 13.85, \"Start B\", \"End B\", 6, 35, \"08:15\", \"09:15\"),\n",
    "    User(3, \"Charlie\", 101.0, 14.0, 101.1, 14.1, \"Start C\", \"End C\", 8, 45, \"07:45\", \"08:45\"),\n",
    "]\n",
    "\n",
    "matches_df = find_matches(users, distance_threshold=13.0, time_threshold=60)\n",
    "\n",
    "# Display the resulting DataFrame\n",
    "print(matches_df)\n"
   ]
  }
 ],
 "metadata": {
  "kernelspec": {
   "display_name": "Python 3",
   "language": "python",
   "name": "python3"
  },
  "language_info": {
   "codemirror_mode": {
    "name": "ipython",
    "version": 3
   },
   "file_extension": ".py",
   "mimetype": "text/x-python",
   "name": "python",
   "nbconvert_exporter": "python",
   "pygments_lexer": "ipython3",
   "version": "3.10.5"
  }
 },
 "nbformat": 4,
 "nbformat_minor": 2
}
