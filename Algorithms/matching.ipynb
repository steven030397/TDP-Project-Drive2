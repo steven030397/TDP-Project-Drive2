{
 "cells": [
  {
   "cell_type": "code",
   "execution_count": 4,
   "metadata": {},
   "outputs": [
    {
     "name": "stdout",
     "output_type": "stream",
     "text": [
      "Requirement already satisfied: scikit-learn in c:\\users\\neteera\\appdata\\local\\programs\\python\\python310\\lib\\site-packages (1.5.1)\n",
      "Requirement already satisfied: numpy>=1.19.5 in c:\\users\\neteera\\appdata\\local\\programs\\python\\python310\\lib\\site-packages (from scikit-learn) (2.1.0)\n",
      "Requirement already satisfied: threadpoolctl>=3.1.0 in c:\\users\\neteera\\appdata\\local\\programs\\python\\python310\\lib\\site-packages (from scikit-learn) (3.5.0)\n",
      "Requirement already satisfied: joblib>=1.2.0 in c:\\users\\neteera\\appdata\\local\\programs\\python\\python310\\lib\\site-packages (from scikit-learn) (1.4.2)\n",
      "Requirement already satisfied: scipy>=1.6.0 in c:\\users\\neteera\\appdata\\local\\programs\\python\\python310\\lib\\site-packages (from scikit-learn) (1.14.0)\n",
      "Note: you may need to restart the kernel to use updated packages.\n"
     ]
    },
    {
     "name": "stderr",
     "output_type": "stream",
     "text": [
      "WARNING: You are using pip version 22.0.4; however, version 24.2 is available.\n",
      "You should consider upgrading via the 'c:\\Users\\neteera\\AppData\\Local\\Programs\\Python\\Python310\\python.exe -m pip install --upgrade pip' command.\n"
     ]
    }
   ],
   "source": [
    "pip install scikit-learn"
   ]
  },
  {
   "cell_type": "code",
   "execution_count": 5,
   "metadata": {},
   "outputs": [],
   "source": [
    "import sklearn"
   ]
  },
  {
   "cell_type": "code",
   "execution_count": 6,
   "metadata": {},
   "outputs": [
    {
     "name": "stdout",
     "output_type": "stream",
     "text": [
      "Match found: Alice and Bob\n"
     ]
    }
   ],
   "source": [
    "import math\n",
    "from datetime import datetime\n",
    "\n",
    "# Haversine function to calculate the distance between two points on the Earth's surface\n",
    "def haversine(lon1, lat1, lon2, lat2):\n",
    "    R = 6371  # Earth radius in kilometers\n",
    "    phi1 = math.radians(lat1)\n",
    "    phi2 = math.radians(lat2)\n",
    "    delta_phi = math.radians(lat2 - lat1)\n",
    "    delta_lambda = math.radians(lon2 - lon1)\n",
    "    \n",
    "    a = math.sin(delta_phi/2)**2 + math.cos(phi1) * math.cos(phi2) * math.sin(delta_lambda/2)**2\n",
    "    c = 2 * math.atan2(math.sqrt(a), math.sqrt(1 - a))\n",
    "    \n",
    "    return R * c  # Output distance in kilometers\n",
    "\n",
    "# User class to store carpooling participant information\n",
    "class User:\n",
    "    def __init__(self, name, start_lon, start_lat, end_lon, end_lat, distance, travel_time, start_time, end_time):\n",
    "        self.name = name\n",
    "        self.start_lon = start_lon\n",
    "        self.start_lat = start_lat\n",
    "        self.end_lon = end_lon\n",
    "        self.end_lat = end_lat\n",
    "        self.distance = distance  # distance willing to travel from start to end\n",
    "        self.travel_time = travel_time\n",
    "        self.start_time = datetime.strptime(start_time, '%H:%M')  # Start time as HH:MM\n",
    "        self.end_time = datetime.strptime(end_time, '%H:%M')  # End time as HH:MM\n",
    "\n",
    "    def __repr__(self):\n",
    "        return f\"User({self.name})\"\n",
    "\n",
    "# Matching function to find potential carpool matches\n",
    "def find_matches(users, distance_threshold=1.0, time_threshold=30):\n",
    "    matches = []\n",
    "    \n",
    "    for i, user1 in enumerate(users):\n",
    "        for user2 in users[i+1:]:\n",
    "            start_distance = haversine(user1.start_lon, user1.start_lat, user2.start_lon, user2.start_lat)\n",
    "            end_distance = haversine(user1.end_lon, user1.end_lat, user2.end_lon, user2.end_lat)\n",
    "            \n",
    "            if start_distance <= distance_threshold and end_distance <= distance_threshold:\n",
    "                # Check if travel time overlap is within threshold\n",
    "                start_time_diff = abs((user1.start_time - user2.start_time).total_seconds() / 60)\n",
    "                end_time_diff = abs((user1.end_time - user2.end_time).total_seconds() / 60)\n",
    "                \n",
    "                if start_time_diff <= time_threshold and end_time_diff <= time_threshold:\n",
    "                    matches.append((user1, user2))\n",
    "    \n",
    "    return matches\n",
    "\n",
    "# Example usage\n",
    "users = [\n",
    "    User(\"Alice\", 100.0, 13.7, 100.2, 13.8, 5, 30, \"08:00\", \"09:00\"),\n",
    "    User(\"Bob\", 100.1, 13.75, 100.25, 13.85, 6, 35, \"08:15\", \"09:15\"),\n",
    "    User(\"Charlie\", 101.0, 14.0, 101.1, 14.1, 8, 45, \"07:45\", \"08:45\"),\n",
    "]\n",
    "\n",
    "matches = find_matches(users, distance_threshold=13.0, time_threshold=60)\n",
    "\n",
    "for match in matches:\n",
    "    print(f\"Match found: {match[0].name} and {match[1].name}\")\n"
   ]
  },
  {
   "cell_type": "code",
   "execution_count": 7,
   "metadata": {},
   "outputs": [
    {
     "name": "stdout",
     "output_type": "stream",
     "text": [
      "Match found: Alice and Bob with distance 21.21\n",
      "Match found: Bob and Charlie with distance 21.21\n",
      "Match found: Charlie and Bob with distance 21.21\n"
     ]
    }
   ],
   "source": [
    "\n",
    "from sklearn.neighbors import NearestNeighbors\n",
    "import numpy as np\n",
    "\n",
    "# Create the feature vectors for each user\n",
    "# Format: [start_lon, start_lat, end_lon, end_lat, start_time_minutes, end_time_minutes]\n",
    "users_features = np.array([\n",
    "    [100.0, 13.7, 100.2, 13.8, 480, 540],   # Alice\n",
    "    [100.05, 13.75, 100.25, 13.85, 495, 555], # Bob\n",
    "    [100.08, 13.72, 100.28, 13.82, 510, 570], # Charlie\n",
    "])\n",
    "\n",
    "# Define the number of neighbors to consider\n",
    "k = 2\n",
    "\n",
    "# Initialize the KNN model\n",
    "knn = NearestNeighbors(n_neighbors=k, metric='euclidean')\n",
    "\n",
    "# Fit the model on the data\n",
    "knn.fit(users_features)\n",
    "\n",
    "# Find the nearest neighbors for each user\n",
    "distances, indices = knn.kneighbors(users_features)\n",
    "\n",
    "# Print the matches\n",
    "for i, (distance, neighbor_index) in enumerate(zip(distances, indices)):\n",
    "    user = users[i]\n",
    "    for j, index in enumerate(neighbor_index):\n",
    "        if i != index:  # Skip self-match\n",
    "            neighbor = users[index]\n",
    "            print(f\"Match found: {user.name} and {neighbor.name} with distance {distance[j]:.2f}\")\n"
   ]
  },
  {
   "cell_type": "code",
   "execution_count": 8,
   "metadata": {},
   "outputs": [
    {
     "name": "stdout",
     "output_type": "stream",
     "text": [
      "\n",
      "Cluster 1:\n",
      "User: Bob\n",
      "User: Charlie\n",
      "\n",
      "Cluster 2:\n",
      "User: Alice\n"
     ]
    }
   ],
   "source": [
    "from sklearn.cluster import KMeans\n",
    "\n",
    "# Number of clusters (can be adjusted)\n",
    "n_clusters = 2\n",
    "\n",
    "# Initialize the K-Means model\n",
    "kmeans = KMeans(n_clusters=n_clusters)\n",
    "\n",
    "# Fit the model and predict clusters\n",
    "clusters = kmeans.fit_predict(users_features)\n",
    "\n",
    "# Print out users in each cluster\n",
    "for cluster in range(n_clusters):\n",
    "    print(f\"\\nCluster {cluster+1}:\")\n",
    "    cluster_members = np.where(clusters == cluster)[0]\n",
    "    for member_index in cluster_members:\n",
    "        print(f\"User: {users[member_index].name}\")\n",
    "\n",
    "##rttttt"
   ]
  }
 ],
 "metadata": {
  "kernelspec": {
   "display_name": "Python 3",
   "language": "python",
   "name": "python3"
  },
  "language_info": {
   "codemirror_mode": {
    "name": "ipython",
    "version": 3
   },
   "file_extension": ".py",
   "mimetype": "text/x-python",
   "name": "python",
   "nbconvert_exporter": "python",
   "pygments_lexer": "ipython3",
   "version": "3.11.7"
  }
 },
 "nbformat": 4,
 "nbformat_minor": 2
}
